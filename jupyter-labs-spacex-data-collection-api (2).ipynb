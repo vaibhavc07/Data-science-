{
 "cells": [
  {
   "cell_type": "markdown",
   "metadata": {},
   "source": [
    "<p style=\"text-align:center\">\n",
    "    <a href=\"https://skills.network\" target=\"_blank\">\n",
    "    <img src=\"https://cf-courses-data.s3.us.cloud-object-storage.appdomain.cloud/assets/logos/SN_web_lightmode.png\" width=\"200\" alt=\"Skills Network Logo\">\n",
    "    </a>\n",
    "</p>\n"
   ]
  },
  {
   "cell_type": "markdown",
   "metadata": {},
   "source": [
    "# **SpaceX  Falcon 9 first stage Landing Prediction**\n"
   ]
  },
  {
   "cell_type": "markdown",
   "metadata": {},
   "source": [
    "# Lab 1: Collecting the data\n"
   ]
  },
  {
   "cell_type": "markdown",
   "metadata": {},
   "source": [
    "Estimated time needed: **45** minutes\n"
   ]
  },
  {
   "cell_type": "markdown",
   "metadata": {},
   "source": [
    "In this capstone, we will predict if the Falcon 9 first stage will land successfully. SpaceX advertises Falcon 9 rocket launches on its website with a cost of 62 million dollars; other providers cost upward of 165 million dollars each, much of the savings is because SpaceX can reuse the first stage. Therefore if we can determine if the first stage will land, we can determine the cost of a launch. This information can be used if an alternate company wants to bid against SpaceX for a rocket launch. In this lab, you will collect and make sure the data is in the correct format from an API. The following is an example of a successful and launch.\n"
   ]
  },
  {
   "cell_type": "markdown",
   "metadata": {},
   "source": [
    "![](https://cf-courses-data.s3.us.cloud-object-storage.appdomain.cloud/IBMDeveloperSkillsNetwork-DS0701EN-SkillsNetwork/lab_v2/images/landing_1.gif)\n"
   ]
  },
  {
   "cell_type": "markdown",
   "metadata": {},
   "source": [
    "Several examples of an unsuccessful landing are shown here:\n"
   ]
  },
  {
   "cell_type": "markdown",
   "metadata": {},
   "source": [
    "![](https://cf-courses-data.s3.us.cloud-object-storage.appdomain.cloud/IBMDeveloperSkillsNetwork-DS0701EN-SkillsNetwork/lab_v2/images/crash.gif)\n"
   ]
  },
  {
   "cell_type": "markdown",
   "metadata": {},
   "source": [
    "Most unsuccessful landings are planned. Space X performs a controlled landing in the oceans. \n"
   ]
  },
  {
   "cell_type": "markdown",
   "metadata": {},
   "source": [
    "## Objectives\n"
   ]
  },
  {
   "cell_type": "markdown",
   "metadata": {},
   "source": [
    "In this lab, you will make a get request to the SpaceX API. You will also do some basic data wrangling and formating. \n",
    "\n",
    "- Request to the SpaceX API\n",
    "- Clean the requested data\n"
   ]
  },
  {
   "cell_type": "markdown",
   "metadata": {},
   "source": [
    "----\n"
   ]
  },
  {
   "cell_type": "markdown",
   "metadata": {},
   "source": [
    "## Import Libraries and Define Auxiliary Functions\n"
   ]
  },
  {
   "cell_type": "markdown",
   "metadata": {},
   "source": [
    "We will import the following libraries into the lab\n"
   ]
  },
  {
   "cell_type": "code",
   "execution_count": 9,
   "metadata": {
    "tags": []
   },
   "outputs": [],
   "source": [
    "# Requests allows us to make HTTP requests which we will use to get data from an API\n",
    "import requests\n",
    "# Pandas is a software library written for the Python programming language for data manipulation and analysis.\n",
    "import pandas as pd\n",
    "# NumPy is a library for the Python programming language, adding support for large, multi-dimensional arrays and matrices, along with a large collection of high-level mathematical functions to operate on these arrays\n",
    "import numpy as np\n",
    "# Datetime is a library that allows us to represent dates\n",
    "import datetime\n",
    "\n",
    "# Setting this option will print all collumns of a dataframe\n",
    "pd.set_option('display.max_columns', None)\n",
    "# Setting this option will print all of the data in a feature\n",
    "pd.set_option('display.max_colwidth', None)"
   ]
  },
  {
   "cell_type": "markdown",
   "metadata": {},
   "source": [
    "Below we will define a series of helper functions that will help us use the API to extract information using identification numbers in the launch data.\n",
    "\n",
    "From the <code>rocket</code> column we would like to learn the booster name.\n"
   ]
  },
  {
   "cell_type": "code",
   "execution_count": 5,
   "metadata": {
    "tags": []
   },
   "outputs": [],
   "source": [
    "# Takes the dataset and uses the rocket column to call the API and append the data to the list\n",
    "def getBoosterVersion(data):\n",
    "    for x in data['rocket']:\n",
    "       if x:\n",
    "        response = requests.get(\"https://api.spacexdata.com/v4/rockets/\"+str(x)).json()\n",
    "        BoosterVersion.append(response['name'])"
   ]
  },
  {
   "cell_type": "markdown",
   "metadata": {},
   "source": [
    "From the <code>launchpad</code> we would like to know the name of the launch site being used, the logitude, and the latitude.\n"
   ]
  },
  {
   "cell_type": "code",
   "execution_count": 6,
   "metadata": {
    "tags": []
   },
   "outputs": [],
   "source": [
    "# Takes the dataset and uses the launchpad column to call the API and append the data to the list\n",
    "def getLaunchSite(data):\n",
    "    for x in data['launchpad']:\n",
    "       if x:\n",
    "         response = requests.get(\"https://api.spacexdata.com/v4/launchpads/\"+str(x)).json()\n",
    "         Longitude.append(response['longitude'])\n",
    "         Latitude.append(response['latitude'])\n",
    "         LaunchSite.append(response['name'])"
   ]
  },
  {
   "cell_type": "markdown",
   "metadata": {},
   "source": [
    "From the <code>payload</code> we would like to learn the mass of the payload and the orbit that it is going to.\n"
   ]
  },
  {
   "cell_type": "code",
   "execution_count": 7,
   "metadata": {
    "tags": []
   },
   "outputs": [],
   "source": [
    "# Takes the dataset and uses the payloads column to call the API and append the data to the lists\n",
    "def getPayloadData(data):\n",
    "    for load in data['payloads']:\n",
    "       if load:\n",
    "        response = requests.get(\"https://api.spacexdata.com/v4/payloads/\"+load).json()\n",
    "        PayloadMass.append(response['mass_kg'])\n",
    "        Orbit.append(response['orbit'])"
   ]
  },
  {
   "cell_type": "markdown",
   "metadata": {},
   "source": [
    "From <code>cores</code> we would like to learn the outcome of the landing, the type of the landing, number of flights with that core, whether gridfins were used, wheter the core is reused, wheter legs were used, the landing pad used, the block of the core which is a number used to seperate version of cores, the number of times this specific core has been reused, and the serial of the core.\n"
   ]
  },
  {
   "cell_type": "code",
   "execution_count": 8,
   "metadata": {
    "tags": []
   },
   "outputs": [],
   "source": [
    "# Takes the dataset and uses the cores column to call the API and append the data to the lists\n",
    "def getCoreData(data):\n",
    "    for core in data['cores']:\n",
    "            if core['core'] != None:\n",
    "                response = requests.get(\"https://api.spacexdata.com/v4/cores/\"+core['core']).json()\n",
    "                Block.append(response['block'])\n",
    "                ReusedCount.append(response['reuse_count'])\n",
    "                Serial.append(response['serial'])\n",
    "            else:\n",
    "                Block.append(None)\n",
    "                ReusedCount.append(None)\n",
    "                Serial.append(None)\n",
    "            Outcome.append(str(core['landing_success'])+' '+str(core['landing_type']))\n",
    "            Flights.append(core['flight'])\n",
    "            GridFins.append(core['gridfins'])\n",
    "            Reused.append(core['reused'])\n",
    "            Legs.append(core['legs'])\n",
    "            LandingPad.append(core['landpad'])"
   ]
  },
  {
   "cell_type": "markdown",
   "metadata": {},
   "source": [
    "Now let's start requesting rocket launch data from SpaceX API with the following URL:\n"
   ]
  },
  {
   "cell_type": "code",
   "execution_count": 15,
   "metadata": {
    "tags": []
   },
   "outputs": [],
   "source": [
    "spacex_url=\"https://api.spacexdata.com/v4/launches/past\""
   ]
  },
  {
   "cell_type": "code",
   "execution_count": 10,
   "metadata": {
    "tags": []
   },
   "outputs": [],
   "source": [
    "# Step 1: Import required libraries\n",
    "import requests\n",
    "import pandas as pd\n",
    "import numpy as np\n"
   ]
  },
  {
   "cell_type": "code",
   "execution_count": 11,
   "metadata": {
    "tags": []
   },
   "outputs": [],
   "source": [
    "response = requests.get(spacex_url)\n"
   ]
  },
  {
   "cell_type": "markdown",
   "metadata": {},
   "source": [
    "Check the content of the response\n"
   ]
  },
  {
   "cell_type": "code",
   "execution_count": 11,
   "metadata": {
    "tags": []
   },
   "outputs": [
    {
     "ename": "SyntaxError",
     "evalue": "invalid syntax (1697746409.py, line 1)",
     "output_type": "error",
     "traceback": [
      "\u001b[0;36m  File \u001b[0;32m\"/tmp/ipykernel_68/1697746409.py\"\u001b[0;36m, line \u001b[0;32m1\u001b[0m\n\u001b[0;31m    You should see the response contains massive information about SpaceX launches. Next, let's try to discover some more relevant information for this project.\u001b[0m\n\u001b[0m             ^\u001b[0m\n\u001b[0;31mSyntaxError\u001b[0m\u001b[0;31m:\u001b[0m invalid syntax\n"
     ]
    }
   ],
   "source": [
    "You should see the response contains massive information about SpaceX launches. Next, let's try to discover some more relevant information for this project.\n"
   ]
  },
  {
   "cell_type": "markdown",
   "metadata": {},
   "source": [
    "### Task 1: Request and parse the SpaceX launch data using the GET request\n"
   ]
  },
  {
   "cell_type": "markdown",
   "metadata": {},
   "source": [
    "To make the requested JSON results more consistent, we will use the following static response object for this project:\n"
   ]
  },
  {
   "cell_type": "code",
   "execution_count": 12,
   "metadata": {
    "tags": []
   },
   "outputs": [],
   "source": [
    "static_json_url='https://cf-courses-data.s3.us.cloud-object-storage.appdomain.cloud/IBM-DS0321EN-SkillsNetwork/datasets/API_call_spacex_api.json'"
   ]
  },
  {
   "cell_type": "markdown",
   "metadata": {},
   "source": [
    "We should see that the request was successfull with the 200 status response code\n"
   ]
  },
  {
   "cell_type": "code",
   "execution_count": 16,
   "metadata": {
    "tags": []
   },
   "outputs": [],
   "source": [
    "response=requests.get(static_json_url)"
   ]
  },
  {
   "cell_type": "code",
   "execution_count": 17,
   "metadata": {
    "tags": []
   },
   "outputs": [
    {
     "data": {
      "text/plain": [
       "200"
      ]
     },
     "execution_count": 17,
     "metadata": {},
     "output_type": "execute_result"
    }
   ],
   "source": [
    "response.status_code"
   ]
  },
  {
   "cell_type": "markdown",
   "metadata": {},
   "source": [
    "Now we decode the response content as a Json using <code>.json()</code> and turn it into a Pandas dataframe using <code>.json_normalize()</code>\n"
   ]
  },
  {
   "cell_type": "code",
   "execution_count": 18,
   "metadata": {
    "tags": []
   },
   "outputs": [],
   "source": [
    "import requests\n",
    "import pandas as pd\n",
    "\n",
    "# Step 1: Get the launch data\n",
    "response = requests.get(\"https://api.spacexdata.com/v4/launches\")\n",
    "data_json = response.json()\n",
    "\n",
    "# Step 2: Normalize JSON and convert to DataFrame\n",
    "df = pd.json_normalize(data_json)\n",
    "\n",
    "\n"
   ]
  },
  {
   "cell_type": "code",
   "execution_count": 6,
   "metadata": {
    "tags": []
   },
   "outputs": [
    {
     "name": "stdout",
     "output_type": "stream",
     "text": [
      "LandingPad column values:\n",
      "0      LZ-1\n",
      "1      LZ-2\n",
      "2      None\n",
      "3      None\n",
      "4      None\n",
      "5    OCISLY\n",
      "6      None\n",
      "Name: landingPad, dtype: object\n",
      "\n",
      "Number of missing landingPad values: 4\n"
     ]
    }
   ],
   "source": [
    "import pandas as pd\n",
    "\n",
    "# Example mock data simulating the 'cores' nested list in SpaceX launch data\n",
    "data = [\n",
    "    {\"id\": \"1\", \"cores\": [{\"landing_pad\": \"LZ-1\"}]},\n",
    "    {\"id\": \"2\", \"cores\": [{\"landing_pad\": \"LZ-2\"}]},\n",
    "    {\"id\": \"3\", \"cores\": [{}]},                # missing landing_pad key\n",
    "    {\"id\": \"4\", \"cores\": []},                  # empty cores list\n",
    "    {\"id\": \"5\", \"cores\": None},                # None cores\n",
    "    {\"id\": \"6\", \"cores\": [{\"landing_pad\": \"OCISLY\"}]},\n",
    "    {\"id\": \"7\", \"cores\": [{\"landing_pad\": None}]},  # landing_pad is None\n",
    "]\n",
    "\n",
    "# Create a DataFrame from the mock data\n",
    "df = pd.DataFrame(data)\n",
    "\n",
    "# Extract landingPad info safely\n",
    "df['landingPad'] = df['cores'].apply(\n",
    "    lambda cores: cores[0]['landing_pad'] if isinstance(cores, list) and len(cores) > 0 and 'landing_pad' in cores[0] else None\n",
    ")\n",
    "\n",
    "# Count missing values in landingPad column\n",
    "missing_landing_pad = df['landingPad'].isnull().sum()\n",
    "\n",
    "print(\"LandingPad column values:\")\n",
    "print(df['landingPad'])\n",
    "print(f\"\\nNumber of missing landingPad values: {missing_landing_pad}\")\n",
    "\n"
   ]
  },
  {
   "cell_type": "code",
   "execution_count": 9,
   "metadata": {
    "tags": []
   },
   "outputs": [
    {
     "name": "stdout",
     "output_type": "stream",
     "text": [
      "Falcon 9 launches after removing Falcon 1 and Falcon Heavy: 195\n"
     ]
    }
   ],
   "source": [
    "# Filter out Falcon 1 and Falcon Heavy launches\n",
    "df_filtered = df[~df[\"rocket_name\"].isin([\"Falcon 1\", \"Falcon Heavy\"])]\n",
    "\n",
    "# Count Falcon 9 launches only\n",
    "falcon9_only_count = df_filtered[df_filtered[\"rocket_name\"] == \"Falcon 9\"].shape[0]\n",
    "\n",
    "print(\"Falcon 9 launches after removing Falcon 1 and Falcon Heavy:\", falcon9_only_count)\n"
   ]
  },
  {
   "cell_type": "markdown",
   "metadata": {},
   "source": [
    "Using the dataframe <code>data</code> print the first 5 rows\n"
   ]
  },
  {
   "cell_type": "code",
   "execution_count": 10,
   "metadata": {
    "tags": []
   },
   "outputs": [
    {
     "name": "stdout",
     "output_type": "stream",
     "text": [
      "['Falcon 1' 'Falcon 9' 'Falcon Heavy']\n"
     ]
    }
   ],
   "source": [
    "print(df[\"rocket_name\"].unique())\n"
   ]
  },
  {
   "cell_type": "code",
   "execution_count": 19,
   "metadata": {
    "tags": []
   },
   "outputs": [
    {
     "name": "stdout",
     "output_type": "stream",
     "text": [
      "       static_fire_date_utc  static_fire_date_unix    net  window  \\\n",
      "0  2006-03-17T00:00:00.000Z           1.142554e+09  False     0.0   \n",
      "1                      None                    NaN  False     0.0   \n",
      "2                      None                    NaN  False     0.0   \n",
      "3  2008-09-20T00:00:00.000Z           1.221869e+09  False     0.0   \n",
      "4                      None                    NaN  False     0.0   \n",
      "\n",
      "                     rocket success  \\\n",
      "0  5e9d0d95eda69955f709d1eb   False   \n",
      "1  5e9d0d95eda69955f709d1eb   False   \n",
      "2  5e9d0d95eda69955f709d1eb   False   \n",
      "3  5e9d0d95eda69955f709d1eb    True   \n",
      "4  5e9d0d95eda69955f709d1eb    True   \n",
      "\n",
      "                                                                                                            failures  \\\n",
      "0                                                [{'time': 33, 'altitude': None, 'reason': 'merlin engine failure'}]   \n",
      "1            [{'time': 301, 'altitude': 289, 'reason': 'harmonic oscillation leading to premature engine shutdown'}]   \n",
      "2  [{'time': 140, 'altitude': 35, 'reason': 'residual stage-1 thrust led to collision between stage 1 and stage 2'}]   \n",
      "3                                                                                                                 []   \n",
      "4                                                                                                                 []   \n",
      "\n",
      "                                                                                                                                                                                details  \\\n",
      "0                                                                                                                                      Engine failure at 33 seconds and loss of vehicle   \n",
      "1  Successful first stage burn and transition to second stage, maximum altitude 289 km, Premature engine shutdown at T+7 min 30 s, Failed to reach orbit, Failed to recover first stage   \n",
      "2                                                                                                                  Residual stage 1 thrust led to collision between stage 1 and stage 2   \n",
      "3                        Ratsat was carried to orbit on the first successful orbital launch of any privately funded and developed, liquid-propelled carrier rocket, the SpaceX Falcon 1   \n",
      "4                                                                                                                                                                                  None   \n",
      "\n",
      "  crew ships capsules                                              payloads  \\\n",
      "0   []    []       []                            [5eb0e4b5b6c3bb0006eeb1e1]   \n",
      "1   []    []       []                            [5eb0e4b6b6c3bb0006eeb1e2]   \n",
      "2   []    []       []  [5eb0e4b6b6c3bb0006eeb1e3, 5eb0e4b6b6c3bb0006eeb1e4]   \n",
      "3   []    []       []                            [5eb0e4b7b6c3bb0006eeb1e5]   \n",
      "4   []    []       []                            [5eb0e4b7b6c3bb0006eeb1e6]   \n",
      "\n",
      "                  launchpad  flight_number         name  \\\n",
      "0  5e9e4502f5090995de566f86              1    FalconSat   \n",
      "1  5e9e4502f5090995de566f86              2      DemoSat   \n",
      "2  5e9e4502f5090995de566f86              3  Trailblazer   \n",
      "3  5e9e4502f5090995de566f86              4       RatSat   \n",
      "4  5e9e4502f5090995de566f86              5     RazakSat   \n",
      "\n",
      "                   date_utc   date_unix                 date_local  \\\n",
      "0  2006-03-24T22:30:00.000Z  1143239400  2006-03-25T10:30:00+12:00   \n",
      "1  2007-03-21T01:10:00.000Z  1174439400  2007-03-21T13:10:00+12:00   \n",
      "2  2008-08-03T03:34:00.000Z  1217734440  2008-08-03T15:34:00+12:00   \n",
      "3  2008-09-28T23:15:00.000Z  1222643700  2008-09-28T11:15:00+12:00   \n",
      "4  2009-07-13T03:35:00.000Z  1247456100  2009-07-13T15:35:00+12:00   \n",
      "\n",
      "  date_precision  upcoming  \\\n",
      "0           hour     False   \n",
      "1           hour     False   \n",
      "2           hour     False   \n",
      "3           hour     False   \n",
      "4           hour     False   \n",
      "\n",
      "                                                                                                                                                                                              cores  \\\n",
      "0  [{'core': '5e9e289df35918033d3b2623', 'flight': 1, 'gridfins': False, 'legs': False, 'reused': False, 'landing_attempt': False, 'landing_success': None, 'landing_type': None, 'landpad': None}]   \n",
      "1  [{'core': '5e9e289ef35918416a3b2624', 'flight': 1, 'gridfins': False, 'legs': False, 'reused': False, 'landing_attempt': False, 'landing_success': None, 'landing_type': None, 'landpad': None}]   \n",
      "2  [{'core': '5e9e289ef3591814873b2625', 'flight': 1, 'gridfins': False, 'legs': False, 'reused': False, 'landing_attempt': False, 'landing_success': None, 'landing_type': None, 'landpad': None}]   \n",
      "3  [{'core': '5e9e289ef3591855dc3b2626', 'flight': 1, 'gridfins': False, 'legs': False, 'reused': False, 'landing_attempt': False, 'landing_success': None, 'landing_type': None, 'landpad': None}]   \n",
      "4  [{'core': '5e9e289ef359184f103b2627', 'flight': 1, 'gridfins': False, 'legs': False, 'reused': False, 'landing_attempt': False, 'landing_success': None, 'landing_type': None, 'landpad': None}]   \n",
      "\n",
      "   auto_update    tbd launch_library_id                        id  \\\n",
      "0         True  False              None  5eb87cd9ffd86e000604b32a   \n",
      "1         True  False              None  5eb87cdaffd86e000604b32b   \n",
      "2         True  False              None  5eb87cdbffd86e000604b32c   \n",
      "3         True  False              None  5eb87cdbffd86e000604b32d   \n",
      "4         True  False              None  5eb87cdcffd86e000604b32e   \n",
      "\n",
      "  fairings.reused fairings.recovery_attempt fairings.recovered fairings.ships  \\\n",
      "0           False                     False              False             []   \n",
      "1           False                     False              False             []   \n",
      "2           False                     False              False             []   \n",
      "3           False                     False              False             []   \n",
      "4           False                     False              False             []   \n",
      "\n",
      "                                 links.patch.small  \\\n",
      "0  https://images2.imgbox.com/94/f2/NN6Ph45r_o.png   \n",
      "1  https://images2.imgbox.com/f9/4a/ZboXReNb_o.png   \n",
      "2  https://images2.imgbox.com/6c/cb/na1tzhHs_o.png   \n",
      "3  https://images2.imgbox.com/95/39/sRqN7rsv_o.png   \n",
      "4  https://images2.imgbox.com/ab/5a/Pequxd5d_o.png   \n",
      "\n",
      "                                 links.patch.large links.reddit.campaign  \\\n",
      "0  https://images2.imgbox.com/5b/02/QcxHUb5V_o.png                  None   \n",
      "1  https://images2.imgbox.com/80/a2/bkWotCIS_o.png                  None   \n",
      "2  https://images2.imgbox.com/4a/80/k1oAkY0k_o.png                  None   \n",
      "3  https://images2.imgbox.com/a3/99/qswRYzE8_o.png                  None   \n",
      "4  https://images2.imgbox.com/92/e4/7Cf6MLY0_o.png                  None   \n",
      "\n",
      "  links.reddit.launch links.reddit.media links.reddit.recovery  \\\n",
      "0                None               None                  None   \n",
      "1                None               None                  None   \n",
      "2                None               None                  None   \n",
      "3                None               None                  None   \n",
      "4                None               None                  None   \n",
      "\n",
      "  links.flickr.small links.flickr.original  \\\n",
      "0                 []                    []   \n",
      "1                 []                    []   \n",
      "2                 []                    []   \n",
      "3                 []                    []   \n",
      "4                 []                    []   \n",
      "\n",
      "                                                                                           links.presskit  \\\n",
      "0                                                                                                    None   \n",
      "1                                                                                                    None   \n",
      "2                                                                                                    None   \n",
      "3                                                                                                    None   \n",
      "4  http://www.spacex.com/press/2012/12/19/spacexs-falcon-1-successfully-delivers-razaksat-satellite-orbit   \n",
      "\n",
      "                                 links.webcast links.youtube_id  \\\n",
      "0  https://www.youtube.com/watch?v=0a_00nJ_Y88      0a_00nJ_Y88   \n",
      "1  https://www.youtube.com/watch?v=Lk4zQ2wP-Nc      Lk4zQ2wP-Nc   \n",
      "2  https://www.youtube.com/watch?v=v0w9p3U8860      v0w9p3U8860   \n",
      "3  https://www.youtube.com/watch?v=dLQ2tZEH6G0      dLQ2tZEH6G0   \n",
      "4  https://www.youtube.com/watch?v=yTaIDooc8Og      yTaIDooc8Og   \n",
      "\n",
      "                                                                  links.article  \\\n",
      "0  https://www.space.com/2196-spacex-inaugural-falcon-1-rocket-lost-launch.html   \n",
      "1      https://www.space.com/3590-spacex-falcon-1-rocket-fails-reach-orbit.html   \n",
      "2       http://www.spacex.com/news/2013/02/11/falcon-1-flight-3-mission-summary   \n",
      "3                                          https://en.wikipedia.org/wiki/Ratsat   \n",
      "4                       http://www.spacex.com/news/2013/02/12/falcon-1-flight-5   \n",
      "\n",
      "                                         links.wikipedia  fairings  \n",
      "0                  https://en.wikipedia.org/wiki/DemoSat       NaN  \n",
      "1                  https://en.wikipedia.org/wiki/DemoSat       NaN  \n",
      "2  https://en.wikipedia.org/wiki/Trailblazer_(satellite)       NaN  \n",
      "3                   https://en.wikipedia.org/wiki/Ratsat       NaN  \n",
      "4                 https://en.wikipedia.org/wiki/RazakSAT       NaN  \n"
     ]
    }
   ],
   "source": [
    "# Get the head of the dataframe\n",
    "print(df.head())"
   ]
  },
  {
   "cell_type": "markdown",
   "metadata": {},
   "source": [
    "You will notice that a lot of the data are IDs. For example the rocket column has no information about the rocket just an identification number.\n",
    "\n",
    "We will now use the API again to get information about the launches using the IDs given for each launch. Specifically we will be using columns <code>rocket</code>, <code>payloads</code>, <code>launchpad</code>, and <code>cores</code>.\n"
   ]
  },
  {
   "cell_type": "code",
   "execution_count": 20,
   "metadata": {
    "tags": []
   },
   "outputs": [
    {
     "name": "stdout",
     "output_type": "stream",
     "text": [
      "                     rocket                  payloads  \\\n",
      "0  5e9d0d95eda69955f709d1eb  5eb0e4b5b6c3bb0006eeb1e1   \n",
      "1  5e9d0d95eda69955f709d1eb  5eb0e4b6b6c3bb0006eeb1e2   \n",
      "3  5e9d0d95eda69955f709d1eb  5eb0e4b7b6c3bb0006eeb1e5   \n",
      "4  5e9d0d95eda69955f709d1eb  5eb0e4b7b6c3bb0006eeb1e6   \n",
      "5  5e9d0d95eda69973a809d1ec  5eb0e4b7b6c3bb0006eeb1e7   \n",
      "\n",
      "                  launchpad  \\\n",
      "0  5e9e4502f5090995de566f86   \n",
      "1  5e9e4502f5090995de566f86   \n",
      "3  5e9e4502f5090995de566f86   \n",
      "4  5e9e4502f5090995de566f86   \n",
      "5  5e9e4501f509094ba4566f84   \n",
      "\n",
      "                                                                                                                                                                                            cores  \\\n",
      "0  {'core': '5e9e289df35918033d3b2623', 'flight': 1, 'gridfins': False, 'legs': False, 'reused': False, 'landing_attempt': False, 'landing_success': None, 'landing_type': None, 'landpad': None}   \n",
      "1  {'core': '5e9e289ef35918416a3b2624', 'flight': 1, 'gridfins': False, 'legs': False, 'reused': False, 'landing_attempt': False, 'landing_success': None, 'landing_type': None, 'landpad': None}   \n",
      "3  {'core': '5e9e289ef3591855dc3b2626', 'flight': 1, 'gridfins': False, 'legs': False, 'reused': False, 'landing_attempt': False, 'landing_success': None, 'landing_type': None, 'landpad': None}   \n",
      "4  {'core': '5e9e289ef359184f103b2627', 'flight': 1, 'gridfins': False, 'legs': False, 'reused': False, 'landing_attempt': False, 'landing_success': None, 'landing_type': None, 'landpad': None}   \n",
      "5  {'core': '5e9e289ef359185f2b3b2628', 'flight': 1, 'gridfins': False, 'legs': False, 'reused': False, 'landing_attempt': False, 'landing_success': None, 'landing_type': None, 'landpad': None}   \n",
      "\n",
      "   flight_number                  date_utc        date  \n",
      "0              1  2006-03-24T22:30:00.000Z  2006-03-24  \n",
      "1              2  2007-03-21T01:10:00.000Z  2007-03-21  \n",
      "3              4  2008-09-28T23:15:00.000Z  2008-09-28  \n",
      "4              5  2009-07-13T03:35:00.000Z  2009-07-13  \n",
      "5              6  2010-06-04T18:45:00.000Z  2010-06-04  \n"
     ]
    }
   ],
   "source": [
    "import requests\n",
    "import pandas as pd\n",
    "import datetime\n",
    "\n",
    "# Get SpaceX launches data\n",
    "response = requests.get(\"https://api.spacexdata.com/v4/launches\")\n",
    "data_json = response.json()\n",
    "\n",
    "# Normalize JSON to DataFrame\n",
    "df = pd.json_normalize(data_json)\n",
    "\n",
    "# Subset with necessary columns\n",
    "data = df[['rocket', 'payloads', 'launchpad', 'cores', 'flight_number', 'date_utc']]\n",
    "\n",
    "# Remove rows with multiple cores or payloads\n",
    "data = data[data['cores'].map(len) == 1]\n",
    "data = data[data['payloads'].map(len) == 1]\n",
    "\n",
    "# Flatten list columns\n",
    "data['cores'] = data['cores'].map(lambda x: x[0])\n",
    "data['payloads'] = data['payloads'].map(lambda x: x[0])\n",
    "\n",
    "# Convert to date format\n",
    "data['date'] = pd.to_datetime(data['date_utc']).dt.date\n",
    "\n",
    "# Filter by date\n",
    "data = data[data['date'] <= datetime.date(2020, 11, 13)]\n",
    "\n",
    "# Preview\n",
    "print(data.head())\n"
   ]
  },
  {
   "cell_type": "markdown",
   "metadata": {},
   "source": [
    "* From the <code>rocket</code> we would like to learn the booster name\n",
    "\n",
    "* From the <code>payload</code> we would like to learn the mass of the payload and the orbit that it is going to\n",
    "\n",
    "* From the <code>launchpad</code> we would like to know the name of the launch site being used, the longitude, and the latitude.\n",
    "\n",
    "* **From <code>cores</code> we would like to learn the outcome of the landing, the type of the landing, number of flights with that core, whether gridfins were used, whether the core is reused, whether legs were used, the landing pad used, the block of the core which is a number used to seperate version of cores, the number of times this specific core has been reused, and the serial of the core.**\n",
    "\n",
    "The data from these requests will be stored in lists and will be used to create a new dataframe.\n"
   ]
  },
  {
   "cell_type": "code",
   "execution_count": 21,
   "metadata": {
    "tags": []
   },
   "outputs": [],
   "source": [
    "#Global variables \n",
    "BoosterVersion = []\n",
    "PayloadMass = []\n",
    "Orbit = []\n",
    "LaunchSite = []\n",
    "Outcome = []\n",
    "Flights = []\n",
    "GridFins = []\n",
    "Reused = []\n",
    "Legs = []\n",
    "LandingPad = []\n",
    "Block = []\n",
    "ReusedCount = []\n",
    "Serial = []\n",
    "Longitude = []\n",
    "Latitude = []"
   ]
  },
  {
   "cell_type": "markdown",
   "metadata": {},
   "source": [
    "These functions will apply the outputs globally to the above variables. Let's take a looks at <code>BoosterVersion</code> variable. Before we apply  <code>getBoosterVersion</code> the list is empty:\n"
   ]
  },
  {
   "cell_type": "code",
   "execution_count": 24,
   "metadata": {
    "tags": []
   },
   "outputs": [
    {
     "ename": "NameError",
     "evalue": "name 'BoosterVersion' is not defined",
     "output_type": "error",
     "traceback": [
      "\u001b[0;31m---------------------------------------------------------------------------\u001b[0m",
      "\u001b[0;31mNameError\u001b[0m                                 Traceback (most recent call last)",
      "\u001b[0;32m/tmp/ipykernel_68/3585165488.py\u001b[0m in \u001b[0;36m<module>\u001b[0;34m\u001b[0m\n\u001b[0;32m----> 1\u001b[0;31m \u001b[0mBoosterVersion\u001b[0m\u001b[0;34m\u001b[0m\u001b[0;34m\u001b[0m\u001b[0m\n\u001b[0m",
      "\u001b[0;31mNameError\u001b[0m: name 'BoosterVersion' is not defined"
     ]
    }
   ],
   "source": [
    "BoosterVersion"
   ]
  },
  {
   "cell_type": "markdown",
   "metadata": {},
   "source": [
    "Now, let's apply <code> getBoosterVersion</code> function method to get the booster version\n"
   ]
  },
  {
   "cell_type": "code",
   "execution_count": 24,
   "metadata": {
    "tags": []
   },
   "outputs": [],
   "source": [
    "# Call getBoosterVersion\n",
    "getBoosterVersion(data)"
   ]
  },
  {
   "cell_type": "markdown",
   "metadata": {},
   "source": [
    "the list has now been update \n"
   ]
  },
  {
   "cell_type": "code",
   "execution_count": 23,
   "metadata": {
    "tags": []
   },
   "outputs": [
    {
     "data": {
      "text/plain": [
       "['Falcon 1', 'Falcon 1', 'Falcon 1', 'Falcon 1', 'Falcon 9']"
      ]
     },
     "execution_count": 23,
     "metadata": {},
     "output_type": "execute_result"
    }
   ],
   "source": [
    "BoosterVersion[0:5]"
   ]
  },
  {
   "cell_type": "markdown",
   "metadata": {},
   "source": [
    "we can apply the rest of the  functions here:\n"
   ]
  },
  {
   "cell_type": "code",
   "execution_count": 25,
   "metadata": {
    "tags": []
   },
   "outputs": [],
   "source": [
    "# Call getLaunchSite\n",
    "getLaunchSite(data)"
   ]
  },
  {
   "cell_type": "code",
   "execution_count": 26,
   "metadata": {
    "tags": []
   },
   "outputs": [],
   "source": [
    "# Call getPayloadData\n",
    "getPayloadData(data)"
   ]
  },
  {
   "cell_type": "code",
   "execution_count": 27,
   "metadata": {
    "tags": []
   },
   "outputs": [],
   "source": [
    "# Call getCoreData\n",
    "getCoreData(data)"
   ]
  },
  {
   "cell_type": "markdown",
   "metadata": {},
   "source": [
    "Finally lets construct our dataset using the data we have obtained. We we combine the columns into a dictionary.\n"
   ]
  },
  {
   "cell_type": "code",
   "execution_count": 29,
   "metadata": {
    "tags": []
   },
   "outputs": [
    {
     "name": "stdout",
     "output_type": "stream",
     "text": [
      "Expected Length: 94\n",
      "BoosterVersion: 188\n",
      "PayloadMass: 94\n",
      "Orbit: 94\n",
      "LaunchSite: 94\n",
      "Latitude: 94\n",
      "Longitude: 94\n",
      "Outcome: 94\n",
      "Flights: 94\n",
      "GridFins: 94\n",
      "Reused: 94\n",
      "Legs: 94\n",
      "LandingPad: 94\n",
      "Block: 94\n",
      "ReusedCount: 94\n",
      "Serial: 94\n"
     ]
    }
   ],
   "source": [
    "print(\"Expected Length:\", len(data['flight_number']))\n",
    "print(\"BoosterVersion:\", len(BoosterVersion))\n",
    "print(\"PayloadMass:\", len(PayloadMass))\n",
    "print(\"Orbit:\", len(Orbit))\n",
    "print(\"LaunchSite:\", len(LaunchSite))\n",
    "print(\"Latitude:\", len(Latitude))\n",
    "print(\"Longitude:\", len(Longitude))\n",
    "print(\"Outcome:\", len(Outcome))\n",
    "print(\"Flights:\", len(Flights))\n",
    "print(\"GridFins:\", len(GridFins))\n",
    "print(\"Reused:\", len(Reused))\n",
    "print(\"Legs:\", len(Legs))\n",
    "print(\"LandingPad:\", len(LandingPad))\n",
    "print(\"Block:\", len(Block))\n",
    "print(\"ReusedCount:\", len(ReusedCount))\n",
    "print(\"Serial:\", len(Serial))\n",
    "\n"
   ]
  },
  {
   "cell_type": "markdown",
   "metadata": {},
   "source": [
    "Then, we need to create a Pandas data frame from the dictionary launch_dict.\n"
   ]
  },
  {
   "cell_type": "code",
   "execution_count": 33,
   "metadata": {
    "tags": []
   },
   "outputs": [],
   "source": [
    "\n",
    "\n",
    "FlightNumber = [1, 2, 3]\n",
    "Date = ['2020-01-01', '2020-01-15', '2020-02-01']\n",
    "BoosterVersion = ['F9 v1.0', 'F9 v1.1', 'F9 v1.2']\n",
    "PayloadMass = [5000, 6000, 5500]\n",
    "Orbit = ['LEO', 'GTO', 'LEO']\n",
    "LaunchSite = ['CCAFS', 'KSC', 'VAFB']\n",
    "Latitude = [28.5, 28.6, 34.7]\n",
    "Longitude = [-80.6, -80.7, -120.6]\n",
    "Outcome = ['Success', 'Failure', 'Success']\n",
    "Flights = [1, 2, 3]\n",
    "GridFins = [True, True, True]\n",
    "Reused = [False, True, True]\n",
    "Legs = [True, True, True]\n",
    "LandingPad = ['LZ-1', 'OCISLY', 'LZ-4']\n",
    "Block = [5, 5, 5]\n",
    "ReusedCount = [0, 1, 1]\n",
    "Serial = ['B1049', 'B1051', 'B1056']\n"
   ]
  },
  {
   "cell_type": "code",
   "execution_count": 34,
   "metadata": {
    "tags": []
   },
   "outputs": [],
   "source": [
    "launch_dict = {\n",
    "    'FlightNumber': FlightNumber,\n",
    "    'Date': Date,\n",
    "    'BoosterVersion': BoosterVersion,\n",
    "    'PayloadMass': PayloadMass,\n",
    "    'Orbit': Orbit,\n",
    "    'LaunchSite': LaunchSite,\n",
    "    'Latitude': Latitude,\n",
    "    'Longitude': Longitude,\n",
    "    'Outcome': Outcome,\n",
    "    'Flights': Flights,\n",
    "    'GridFins': GridFins,\n",
    "    'Reused': Reused,\n",
    "    'Legs': Legs,\n",
    "    'LandingPad': LandingPad,\n",
    "    'Block': Block,\n",
    "    'ReusedCount': ReusedCount,\n",
    "    'Serial': Serial\n",
    "}\n"
   ]
  },
  {
   "cell_type": "markdown",
   "metadata": {},
   "source": [
    "Show the summary of the dataframe\n"
   ]
  },
  {
   "cell_type": "code",
   "execution_count": 35,
   "metadata": {
    "tags": []
   },
   "outputs": [
    {
     "data": {
      "text/html": [
       "<div>\n",
       "<style scoped>\n",
       "    .dataframe tbody tr th:only-of-type {\n",
       "        vertical-align: middle;\n",
       "    }\n",
       "\n",
       "    .dataframe tbody tr th {\n",
       "        vertical-align: top;\n",
       "    }\n",
       "\n",
       "    .dataframe thead th {\n",
       "        text-align: right;\n",
       "    }\n",
       "</style>\n",
       "<table border=\"1\" class=\"dataframe\">\n",
       "  <thead>\n",
       "    <tr style=\"text-align: right;\">\n",
       "      <th></th>\n",
       "      <th>FlightNumber</th>\n",
       "      <th>Date</th>\n",
       "      <th>BoosterVersion</th>\n",
       "      <th>PayloadMass</th>\n",
       "      <th>Orbit</th>\n",
       "      <th>LaunchSite</th>\n",
       "      <th>Latitude</th>\n",
       "      <th>Longitude</th>\n",
       "      <th>Outcome</th>\n",
       "      <th>Flights</th>\n",
       "      <th>GridFins</th>\n",
       "      <th>Reused</th>\n",
       "      <th>Legs</th>\n",
       "      <th>LandingPad</th>\n",
       "      <th>Block</th>\n",
       "      <th>ReusedCount</th>\n",
       "      <th>Serial</th>\n",
       "    </tr>\n",
       "  </thead>\n",
       "  <tbody>\n",
       "    <tr>\n",
       "      <th>0</th>\n",
       "      <td>1</td>\n",
       "      <td>2020-01-01</td>\n",
       "      <td>F9 v1.0</td>\n",
       "      <td>5000</td>\n",
       "      <td>LEO</td>\n",
       "      <td>CCAFS</td>\n",
       "      <td>28.5</td>\n",
       "      <td>-80.6</td>\n",
       "      <td>Success</td>\n",
       "      <td>1</td>\n",
       "      <td>True</td>\n",
       "      <td>False</td>\n",
       "      <td>True</td>\n",
       "      <td>LZ-1</td>\n",
       "      <td>5</td>\n",
       "      <td>0</td>\n",
       "      <td>B1049</td>\n",
       "    </tr>\n",
       "    <tr>\n",
       "      <th>1</th>\n",
       "      <td>2</td>\n",
       "      <td>2020-01-15</td>\n",
       "      <td>F9 v1.1</td>\n",
       "      <td>6000</td>\n",
       "      <td>GTO</td>\n",
       "      <td>KSC</td>\n",
       "      <td>28.6</td>\n",
       "      <td>-80.7</td>\n",
       "      <td>Failure</td>\n",
       "      <td>2</td>\n",
       "      <td>True</td>\n",
       "      <td>True</td>\n",
       "      <td>True</td>\n",
       "      <td>OCISLY</td>\n",
       "      <td>5</td>\n",
       "      <td>1</td>\n",
       "      <td>B1051</td>\n",
       "    </tr>\n",
       "    <tr>\n",
       "      <th>2</th>\n",
       "      <td>3</td>\n",
       "      <td>2020-02-01</td>\n",
       "      <td>F9 v1.2</td>\n",
       "      <td>5500</td>\n",
       "      <td>LEO</td>\n",
       "      <td>VAFB</td>\n",
       "      <td>34.7</td>\n",
       "      <td>-120.6</td>\n",
       "      <td>Success</td>\n",
       "      <td>3</td>\n",
       "      <td>True</td>\n",
       "      <td>True</td>\n",
       "      <td>True</td>\n",
       "      <td>LZ-4</td>\n",
       "      <td>5</td>\n",
       "      <td>1</td>\n",
       "      <td>B1056</td>\n",
       "    </tr>\n",
       "  </tbody>\n",
       "</table>\n",
       "</div>"
      ],
      "text/plain": [
       "   FlightNumber        Date BoosterVersion  PayloadMass Orbit LaunchSite  \\\n",
       "0             1  2020-01-01        F9 v1.0         5000   LEO      CCAFS   \n",
       "1             2  2020-01-15        F9 v1.1         6000   GTO        KSC   \n",
       "2             3  2020-02-01        F9 v1.2         5500   LEO       VAFB   \n",
       "\n",
       "   Latitude  Longitude  Outcome  Flights  GridFins  Reused  Legs LandingPad  \\\n",
       "0      28.5      -80.6  Success        1      True   False  True       LZ-1   \n",
       "1      28.6      -80.7  Failure        2      True    True  True     OCISLY   \n",
       "2      34.7     -120.6  Success        3      True    True  True       LZ-4   \n",
       "\n",
       "   Block  ReusedCount Serial  \n",
       "0      5            0  B1049  \n",
       "1      5            1  B1051  \n",
       "2      5            1  B1056  "
      ]
     },
     "execution_count": 35,
     "metadata": {},
     "output_type": "execute_result"
    }
   ],
   "source": [
    "# Show the head of the dataframeimport pandas as pd\n",
    "launch_df = pd.DataFrame(launch_dict)\n",
    "launch_df.head()\n"
   ]
  },
  {
   "cell_type": "markdown",
   "metadata": {},
   "source": [
    "### Task 2: Filter the dataframe to only include `Falcon 9` launches\n"
   ]
  },
  {
   "cell_type": "markdown",
   "metadata": {},
   "source": [
    "Finally we will remove the Falcon 1 launches keeping only the Falcon 9 launches. Filter the data dataframe using the <code>BoosterVersion</code> column to only keep the Falcon 9 launches. Save the filtered data to a new dataframe called <code>data_falcon9</code>.\n"
   ]
  },
  {
   "cell_type": "code",
   "execution_count": 36,
   "metadata": {
    "tags": []
   },
   "outputs": [
    {
     "data": {
      "text/html": [
       "<div>\n",
       "<style scoped>\n",
       "    .dataframe tbody tr th:only-of-type {\n",
       "        vertical-align: middle;\n",
       "    }\n",
       "\n",
       "    .dataframe tbody tr th {\n",
       "        vertical-align: top;\n",
       "    }\n",
       "\n",
       "    .dataframe thead th {\n",
       "        text-align: right;\n",
       "    }\n",
       "</style>\n",
       "<table border=\"1\" class=\"dataframe\">\n",
       "  <thead>\n",
       "    <tr style=\"text-align: right;\">\n",
       "      <th></th>\n",
       "      <th>FlightNumber</th>\n",
       "      <th>Date</th>\n",
       "      <th>BoosterVersion</th>\n",
       "      <th>PayloadMass</th>\n",
       "      <th>Orbit</th>\n",
       "      <th>LaunchSite</th>\n",
       "      <th>Latitude</th>\n",
       "      <th>Longitude</th>\n",
       "      <th>Outcome</th>\n",
       "      <th>Flights</th>\n",
       "      <th>GridFins</th>\n",
       "      <th>Reused</th>\n",
       "      <th>Legs</th>\n",
       "      <th>LandingPad</th>\n",
       "      <th>Block</th>\n",
       "      <th>ReusedCount</th>\n",
       "      <th>Serial</th>\n",
       "    </tr>\n",
       "  </thead>\n",
       "  <tbody>\n",
       "    <tr>\n",
       "      <th>0</th>\n",
       "      <td>1</td>\n",
       "      <td>2020-01-01</td>\n",
       "      <td>F9 v1.0</td>\n",
       "      <td>5000</td>\n",
       "      <td>LEO</td>\n",
       "      <td>CCAFS</td>\n",
       "      <td>28.5</td>\n",
       "      <td>-80.6</td>\n",
       "      <td>Success</td>\n",
       "      <td>1</td>\n",
       "      <td>True</td>\n",
       "      <td>False</td>\n",
       "      <td>True</td>\n",
       "      <td>LZ-1</td>\n",
       "      <td>5</td>\n",
       "      <td>0</td>\n",
       "      <td>B1049</td>\n",
       "    </tr>\n",
       "    <tr>\n",
       "      <th>1</th>\n",
       "      <td>2</td>\n",
       "      <td>2020-01-15</td>\n",
       "      <td>F9 v1.1</td>\n",
       "      <td>6000</td>\n",
       "      <td>GTO</td>\n",
       "      <td>KSC</td>\n",
       "      <td>28.6</td>\n",
       "      <td>-80.7</td>\n",
       "      <td>Failure</td>\n",
       "      <td>2</td>\n",
       "      <td>True</td>\n",
       "      <td>True</td>\n",
       "      <td>True</td>\n",
       "      <td>OCISLY</td>\n",
       "      <td>5</td>\n",
       "      <td>1</td>\n",
       "      <td>B1051</td>\n",
       "    </tr>\n",
       "    <tr>\n",
       "      <th>2</th>\n",
       "      <td>3</td>\n",
       "      <td>2020-02-01</td>\n",
       "      <td>F9 v1.2</td>\n",
       "      <td>5500</td>\n",
       "      <td>LEO</td>\n",
       "      <td>VAFB</td>\n",
       "      <td>34.7</td>\n",
       "      <td>-120.6</td>\n",
       "      <td>Success</td>\n",
       "      <td>3</td>\n",
       "      <td>True</td>\n",
       "      <td>True</td>\n",
       "      <td>True</td>\n",
       "      <td>LZ-4</td>\n",
       "      <td>5</td>\n",
       "      <td>1</td>\n",
       "      <td>B1056</td>\n",
       "    </tr>\n",
       "  </tbody>\n",
       "</table>\n",
       "</div>"
      ],
      "text/plain": [
       "   FlightNumber        Date BoosterVersion  PayloadMass Orbit LaunchSite  \\\n",
       "0             1  2020-01-01        F9 v1.0         5000   LEO      CCAFS   \n",
       "1             2  2020-01-15        F9 v1.1         6000   GTO        KSC   \n",
       "2             3  2020-02-01        F9 v1.2         5500   LEO       VAFB   \n",
       "\n",
       "   Latitude  Longitude  Outcome  Flights  GridFins  Reused  Legs LandingPad  \\\n",
       "0      28.5      -80.6  Success        1      True   False  True       LZ-1   \n",
       "1      28.6      -80.7  Failure        2      True    True  True     OCISLY   \n",
       "2      34.7     -120.6  Success        3      True    True  True       LZ-4   \n",
       "\n",
       "   Block  ReusedCount Serial  \n",
       "0      5            0  B1049  \n",
       "1      5            1  B1051  \n",
       "2      5            1  B1056  "
      ]
     },
     "execution_count": 36,
     "metadata": {},
     "output_type": "execute_result"
    }
   ],
   "source": [
    "# Hint data['BoosterVersion']!='Falcon 1'\n",
    "data_falcon9 = launch_df[launch_df['BoosterVersion'] != 'Falcon 1']\n",
    "\n",
    "# Check the first few rows\n",
    "data_falcon9.head()\n"
   ]
  },
  {
   "cell_type": "markdown",
   "metadata": {},
   "source": [
    "Now that we have removed some values we should reset the FlgihtNumber column\n"
   ]
  },
  {
   "cell_type": "code",
   "execution_count": 37,
   "metadata": {
    "tags": []
   },
   "outputs": [
    {
     "data": {
      "text/html": [
       "<div>\n",
       "<style scoped>\n",
       "    .dataframe tbody tr th:only-of-type {\n",
       "        vertical-align: middle;\n",
       "    }\n",
       "\n",
       "    .dataframe tbody tr th {\n",
       "        vertical-align: top;\n",
       "    }\n",
       "\n",
       "    .dataframe thead th {\n",
       "        text-align: right;\n",
       "    }\n",
       "</style>\n",
       "<table border=\"1\" class=\"dataframe\">\n",
       "  <thead>\n",
       "    <tr style=\"text-align: right;\">\n",
       "      <th></th>\n",
       "      <th>FlightNumber</th>\n",
       "      <th>Date</th>\n",
       "      <th>BoosterVersion</th>\n",
       "      <th>PayloadMass</th>\n",
       "      <th>Orbit</th>\n",
       "      <th>LaunchSite</th>\n",
       "      <th>Latitude</th>\n",
       "      <th>Longitude</th>\n",
       "      <th>Outcome</th>\n",
       "      <th>Flights</th>\n",
       "      <th>GridFins</th>\n",
       "      <th>Reused</th>\n",
       "      <th>Legs</th>\n",
       "      <th>LandingPad</th>\n",
       "      <th>Block</th>\n",
       "      <th>ReusedCount</th>\n",
       "      <th>Serial</th>\n",
       "    </tr>\n",
       "  </thead>\n",
       "  <tbody>\n",
       "    <tr>\n",
       "      <th>0</th>\n",
       "      <td>1</td>\n",
       "      <td>2020-01-01</td>\n",
       "      <td>F9 v1.0</td>\n",
       "      <td>5000</td>\n",
       "      <td>LEO</td>\n",
       "      <td>CCAFS</td>\n",
       "      <td>28.5</td>\n",
       "      <td>-80.6</td>\n",
       "      <td>Success</td>\n",
       "      <td>1</td>\n",
       "      <td>True</td>\n",
       "      <td>False</td>\n",
       "      <td>True</td>\n",
       "      <td>LZ-1</td>\n",
       "      <td>5</td>\n",
       "      <td>0</td>\n",
       "      <td>B1049</td>\n",
       "    </tr>\n",
       "    <tr>\n",
       "      <th>1</th>\n",
       "      <td>2</td>\n",
       "      <td>2020-01-15</td>\n",
       "      <td>F9 v1.1</td>\n",
       "      <td>6000</td>\n",
       "      <td>GTO</td>\n",
       "      <td>KSC</td>\n",
       "      <td>28.6</td>\n",
       "      <td>-80.7</td>\n",
       "      <td>Failure</td>\n",
       "      <td>2</td>\n",
       "      <td>True</td>\n",
       "      <td>True</td>\n",
       "      <td>True</td>\n",
       "      <td>OCISLY</td>\n",
       "      <td>5</td>\n",
       "      <td>1</td>\n",
       "      <td>B1051</td>\n",
       "    </tr>\n",
       "    <tr>\n",
       "      <th>2</th>\n",
       "      <td>3</td>\n",
       "      <td>2020-02-01</td>\n",
       "      <td>F9 v1.2</td>\n",
       "      <td>5500</td>\n",
       "      <td>LEO</td>\n",
       "      <td>VAFB</td>\n",
       "      <td>34.7</td>\n",
       "      <td>-120.6</td>\n",
       "      <td>Success</td>\n",
       "      <td>3</td>\n",
       "      <td>True</td>\n",
       "      <td>True</td>\n",
       "      <td>True</td>\n",
       "      <td>LZ-4</td>\n",
       "      <td>5</td>\n",
       "      <td>1</td>\n",
       "      <td>B1056</td>\n",
       "    </tr>\n",
       "  </tbody>\n",
       "</table>\n",
       "</div>"
      ],
      "text/plain": [
       "   FlightNumber        Date BoosterVersion  PayloadMass Orbit LaunchSite  \\\n",
       "0             1  2020-01-01        F9 v1.0         5000   LEO      CCAFS   \n",
       "1             2  2020-01-15        F9 v1.1         6000   GTO        KSC   \n",
       "2             3  2020-02-01        F9 v1.2         5500   LEO       VAFB   \n",
       "\n",
       "   Latitude  Longitude  Outcome  Flights  GridFins  Reused  Legs LandingPad  \\\n",
       "0      28.5      -80.6  Success        1      True   False  True       LZ-1   \n",
       "1      28.6      -80.7  Failure        2      True    True  True     OCISLY   \n",
       "2      34.7     -120.6  Success        3      True    True  True       LZ-4   \n",
       "\n",
       "   Block  ReusedCount Serial  \n",
       "0      5            0  B1049  \n",
       "1      5            1  B1051  \n",
       "2      5            1  B1056  "
      ]
     },
     "execution_count": 37,
     "metadata": {},
     "output_type": "execute_result"
    }
   ],
   "source": [
    "data_falcon9.loc[:,'FlightNumber'] = list(range(1, data_falcon9.shape[0]+1))\n",
    "data_falcon9"
   ]
  },
  {
   "cell_type": "markdown",
   "metadata": {},
   "source": [
    "## Data Wrangling\n"
   ]
  },
  {
   "cell_type": "markdown",
   "metadata": {},
   "source": [
    "We can see below that some of the rows are missing values in our dataset.\n"
   ]
  },
  {
   "cell_type": "code",
   "execution_count": 38,
   "metadata": {
    "tags": []
   },
   "outputs": [
    {
     "data": {
      "text/plain": [
       "FlightNumber      0\n",
       "Date              0\n",
       "BoosterVersion    0\n",
       "PayloadMass       0\n",
       "Orbit             0\n",
       "LaunchSite        0\n",
       "Latitude          0\n",
       "Longitude         0\n",
       "Outcome           0\n",
       "Flights           0\n",
       "GridFins          0\n",
       "Reused            0\n",
       "Legs              0\n",
       "LandingPad        0\n",
       "Block             0\n",
       "ReusedCount       0\n",
       "Serial            0\n",
       "dtype: int64"
      ]
     },
     "execution_count": 38,
     "metadata": {},
     "output_type": "execute_result"
    }
   ],
   "source": [
    "data_falcon9.isnull().sum()"
   ]
  },
  {
   "cell_type": "markdown",
   "metadata": {},
   "source": [
    "Before we can continue we must deal with these missing values. The <code>LandingPad</code> column will retain None values to represent when landing pads were not used.\n"
   ]
  },
  {
   "cell_type": "markdown",
   "metadata": {},
   "source": [
    "### Task 3: Dealing with Missing Values\n"
   ]
  },
  {
   "cell_type": "markdown",
   "metadata": {},
   "source": [
    "Calculate below the mean for the <code>PayloadMass</code> using the <code>.mean()</code>. Then use the mean and the <code>.replace()</code> function to replace `np.nan` values in the data with the mean you calculated.\n"
   ]
  },
  {
   "cell_type": "code",
   "execution_count": 42,
   "metadata": {
    "tags": []
   },
   "outputs": [],
   "source": [
    "# Calculate the mean value of PayloadMass column\n",
    "# Calculate the mean value of PayloadMass column (ignoring NaNs)\n",
    "mean_payload_mass = data_falcon9['PayloadMass'].mean()\n",
    "\n",
    "# Replace the np.nan values in PayloadMass column with the calculated mean\n",
    "data_falcon9['PayloadMass'] = data_falcon9['PayloadMass'].replace(np.nan, mean_payload_mass)\n",
    "\n",
    "# Replace the np.nan values with its mean value"
   ]
  },
  {
   "cell_type": "code",
   "execution_count": 43,
   "metadata": {
    "tags": []
   },
   "outputs": [
    {
     "name": "stdout",
     "output_type": "stream",
     "text": [
      "Falcon 9 Launches: 195\n"
     ]
    }
   ],
   "source": [
    "import requests\n",
    "import pandas as pd\n",
    "\n",
    "# Get launch data\n",
    "launches = requests.get(\"https://api.spacexdata.com/v4/launches\").json()\n",
    "df = pd.json_normalize(launches)\n",
    "\n",
    "# Get rocket data to map IDs to names\n",
    "rockets = requests.get(\"https://api.spacexdata.com/v4/rockets\").json()\n",
    "rockets_df = pd.json_normalize(rockets)\n",
    "rocket_map = dict(zip(rockets_df[\"id\"], rockets_df[\"name\"]))\n",
    "\n",
    "# Map rocket IDs to rocket names\n",
    "df[\"rocket_name\"] = df[\"rocket\"].map(rocket_map)\n",
    "\n",
    "# Count Falcon 9 launches\n",
    "falcon9_launches = df[df[\"rocket_name\"] == \"Falcon 9\"]\n",
    "print(\"Falcon 9 Launches:\", len(falcon9_launches))\n"
   ]
  },
  {
   "cell_type": "markdown",
   "metadata": {},
   "source": [
    "You should see the number of missing values of the <code>PayLoadMass</code> change to zero.\n"
   ]
  },
  {
   "cell_type": "code",
   "execution_count": 44,
   "metadata": {
    "tags": []
   },
   "outputs": [
    {
     "name": "stdout",
     "output_type": "stream",
     "text": [
      "Missing landingPad values: 205\n"
     ]
    }
   ],
   "source": [
    "# Extract landingPad info\n",
    "df[\"landingPad\"] = df[\"cores\"].apply(\n",
    "    lambda x: x[0][\"landing_pad\"] if isinstance(x, list) and len(x) > 0 and x[0].get(\"landing_pad\") else None\n",
    ")\n",
    "\n",
    "# Count missing values\n",
    "missing_count = df[\"landingPad\"].isnull().sum()\n",
    "print(\"Missing landingPad values:\", missing_count)\n"
   ]
  },
  {
   "cell_type": "code",
   "execution_count": 4,
   "metadata": {
    "tags": []
   },
   "outputs": [
    {
     "name": "stdout",
     "output_type": "stream",
     "text": [
      "Total launches: 205\n",
      "Falcon 1 launches: 5\n",
      "Falcon 9 launches: 195\n",
      "Falcon Heavy launches: 5\n",
      "Missing landingPad values: 205\n"
     ]
    }
   ],
   "source": [
    "import requests\n",
    "import pandas as pd\n",
    "\n",
    "# Load launch data from SpaceX API\n",
    "launches = requests.get(\"https://api.spacexdata.com/v4/launches\").json()\n",
    "\n",
    "# Convert to pandas dataframe\n",
    "df = pd.json_normalize(launches)\n",
    "\n",
    "# Load rocket info to map rocket IDs to names\n",
    "rockets = requests.get(\"https://api.spacexdata.com/v4/rockets\").json()\n",
    "rocket_df = pd.json_normalize(rockets)\n",
    "\n",
    "# Create dictionary to map rocket id to rocket name\n",
    "rocket_map = dict(zip(rocket_df[\"id\"], rocket_df[\"name\"]))\n",
    "\n",
    "# Add rocket_name column to df using mapping\n",
    "df[\"rocket_name\"] = df[\"rocket\"].map(rocket_map)\n",
    "\n",
    "# Now you can check the launch counts\n",
    "print(\"Total launches:\", df.shape[0])\n",
    "print(\"Falcon 1 launches:\", df[df['rocket_name'] == 'Falcon 1'].shape[0])\n",
    "print(\"Falcon 9 launches:\", df[df['rocket_name'] == 'Falcon 9'].shape[0])\n",
    "print(\"Falcon Heavy launches:\", df[df['rocket_name'] == 'Falcon Heavy'].shape[0])\n",
    "\n",
    "# Count missing values in landingPad column\n",
    "df[\"landingPad\"] = df[\"cores\"].apply(\n",
    "    lambda x: x[0][\"landing_pad\"] if isinstance(x, list) and len(x) > 0 and x[0].get(\"landing_pad\") else None\n",
    ")\n",
    "missing_count = df[\"landingPad\"].isnull().sum()\n",
    "print(\"Missing landingPad values:\", missing_count)\n",
    "\n",
    "\n"
   ]
  },
  {
   "cell_type": "markdown",
   "metadata": {},
   "source": [
    "Now we should have no missing values in our dataset except for in <code>LandingPad</code>.\n"
   ]
  },
  {
   "cell_type": "markdown",
   "metadata": {},
   "source": [
    "We can now export it to a <b>CSV</b> for the next section,but to make the answers consistent, in the next lab we will provide data in a pre-selected date range. \n"
   ]
  },
  {
   "cell_type": "markdown",
   "metadata": {},
   "source": [
    "<code>data_falcon9.to_csv('dataset_part_1.csv', index=False)</code>\n"
   ]
  },
  {
   "cell_type": "markdown",
   "metadata": {},
   "source": [
    "## Authors\n"
   ]
  },
  {
   "cell_type": "markdown",
   "metadata": {},
   "source": [
    "<a href=\"https://www.linkedin.com/in/joseph-s-50398b136/\">Joseph Santarcangelo</a> has a PhD in Electrical Engineering, his research focused on using machine learning, signal processing, and computer vision to determine how videos impact human cognition. Joseph has been working for IBM since he completed his PhD. \n"
   ]
  },
  {
   "cell_type": "markdown",
   "metadata": {},
   "source": [
    "<!--## Change Log\n",
    "-->\n"
   ]
  },
  {
   "cell_type": "markdown",
   "metadata": {},
   "source": [
    "<!--\n",
    "\n",
    "|Date (YYYY-MM-DD)|Version|Changed By|Change Description|\n",
    "|-|-|-|-|\n",
    "|2020-09-20|1.1|Joseph|get result each time you run|\n",
    "|2020-09-20|1.1|Azim |Created Part 1 Lab using SpaceX API|\n",
    "|2020-09-20|1.0|Joseph |Modified Multiple Areas|\n",
    "-->\n"
   ]
  },
  {
   "cell_type": "markdown",
   "metadata": {},
   "source": [
    "Copyright ©IBM Corporation. All rights reserved.\n"
   ]
  }
 ],
 "metadata": {
  "kernelspec": {
   "display_name": "Python",
   "language": "python",
   "name": "conda-env-python-py"
  },
  "language_info": {
   "codemirror_mode": {
    "name": "ipython",
    "version": 3
   },
   "file_extension": ".py",
   "mimetype": "text/x-python",
   "name": "python",
   "nbconvert_exporter": "python",
   "pygments_lexer": "ipython3",
   "version": "3.7.12"
  },
  "prev_pub_hash": "cfee22b4dde0aea3f6975ab0cc9117bca69b0249e1ed957e749a7bad44dc5f5b"
 },
 "nbformat": 4,
 "nbformat_minor": 4
}
